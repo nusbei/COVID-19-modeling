{
 "cells": [
  {
   "cell_type": "markdown",
   "metadata": {},
   "source": [
    "# ETAS-based modeling for infectious desease spreading"
   ]
  },
  {
   "cell_type": "markdown",
   "metadata": {},
   "source": [
    "## Notations:"
   ]
  },
  {
   "cell_type": "markdown",
   "metadata": {},
   "source": [
    "1. Infection event $i$, denoted as $(t_i,\\mathbf{x}_i,N_i)$, corresponds to the $i$th earthquake (including aftershock) in ETAS model, denoted as $(t_i,\\mathbf{x}_i,M_i)$, where $\\mathbf{x}_i$ and $t_i$ represents the spatio-temporal location of the infection event or earthquake $i$; $N_i$ is the number of infected people during infection event $i$, which is similar to the $i$th earthquake magnitude $M_i$."
   ]
  },
  {
   "cell_type": "markdown",
   "metadata": {},
   "source": [
    "2. In ETAS model, the rate of earthquake occurrence at time $t$ depends on the entire history of earthquakes before the current moment $t$, $H_e=\\{(t_i,\\mathbf{x}_i,M_i)|t_i<t\\}$, as follows:\n",
    "\n",
    "$$\\lambda_e(t|H_e)=\\mu+\\sum_{i:t_i<t}g_e(t-t_i)h_e(M_i),$$\n",
    "\n",
    "in which\n",
    "\n",
    "$$ g_e(t) = \\frac{1}{(t+c)^p}, $$\n",
    "\n",
    "$$ h_e(M) = k_e e^{\\alpha_e(M-M_0)}, $$\n",
    "\n",
    "where, $\\mu$ is the background occurance rate of earthquakes, $g_e(t)$ is the temporal decay of an earthquake influence, $h_e(M)$ is the spatial influence according to its magnitude; $c$ and $p$ are parameters adjusting $g_e(t)$, $k_e$, $\\alpha_e$ and $M_0$ are parameters adjusting $h_e(M)$. $g_e(t)$ and $h_e(M)$ corresponds to the statistial patterns in seismology, known as Omori’s law (occurance rate is inverse proportional to $t$) and Gutenberg-Richter law (occurance rate is proportional to exponential magnitude), respectively."
   ]
  },
  {
   "cell_type": "markdown",
   "metadata": {},
   "source": [
    "3. Analogous to ETAS model, we can reasonably assume the occurrence rate of infection events is also determined by the entire infection history before current moment $t$, $H_d=\\{(t_i,\\mathbf{x}_i,N_i)|t_i<t\\}$, as follows:\n",
    "\n",
    "$$\\lambda_d(t|H_d)=\\sum_{i:t_i<t}g_d(t-t_i)h_d(N_i,\\mathbf{x},t),$$\n",
    "\n",
    "in which\n",
    "\n",
    "$$ g_d(t) = \\frac{1}{\\sigma\\sqrt{2\\pi}}e^{-\\frac{1}{2}(\\frac{t-\\tau}{\\sigma})^2}, $$\n",
    "\n",
    "$$ h_d(N) = k_d(\\frac{N}{N_0})^{\\alpha_d}, $$"
   ]
  },
  {
   "cell_type": "markdown",
   "metadata": {},
   "source": [
    "Notice the differences between $g_d$ and $g_e$, as well as between $h_d$ and $h_e$. $g_d$ is a gaussian distribution instead of inverse proportional along time, since the average infectability of an infected individual varying along time should experience the incubation (zero to low infectability), onset of symptoms (low to high infectability), and recovery (high to low eventually to zero infectability) or quarntine/desease (high to zero infectability by cutoff). $h_d$ is essentially the same format as $h_e$, since $M_i$ as the magnitude represents the earthquake amplitude in log scale, whereas $N_i$ is just the infected number of event $i$ in regular scale."
   ]
  },
  {
   "cell_type": "markdown",
   "metadata": {},
   "source": [
    "Due to the resolution limit, we assume all infection events happening within one time interval and one spatial grid are viewed as one infection event, where the time and spatial location are represented by discretized temporal and spatial indices, and the infected number is the total number of infected within this time interval and spatial grid. Hence, we can determine the number of infection events at $t$ as $\\lambda_d(t|H_d)$ using the infection history, and this event number equals to the grid number that being infected at $t$."
   ]
  },
  {
   "cell_type": "markdown",
   "metadata": {},
   "source": [
    "4. Apart from infection events, the expected infection distribution at $t$ is expressed as\n",
    "\n",
    "$$ n_I(\\mathbf{x},t|H_d)=R_0(t)(1-I(\\mathbf{x},t))\\sum_{i:t_i<t}N_ig_d(t-t_i)f(\\mathbf{x},\\mathbf{x}_i,t), $$\n",
    "\n",
    "in which\n",
    "\n",
    "$$f(\\mathbf{x},\\mathbf{x}_i,t)=w_G(t)G_n(|\\mathbf{x}-\\mathbf{x}_i|,\\sigma_d(t))+(1-w_G(t))P_n(\\mathbf{x},\\mathbf{x}_i).$$\n",
    "\n",
    "where, $R_0(t)$ is the basic reproduction number, $I(\\mathbf{x},t)$ is the immunity ratio, $g_n(t)$ and $f(\\mathbf{x},\\mathbf{x}_i,t)$ are the temporal and spatial PDFs of infection, respectively. $g_n(t)$ is simply the normalized $g_e(t)$, $f(\\mathbf{x},\\mathbf{x}_i,t)$ is composed by two parts: the 2-D Gaussian function $G_n(|\\mathbf{x}-\\mathbf{x}_i|,\\sigma_d,t)$ representing the short-distance wandering, while $P_n(\\mathbf{x},\\mathbf{x}_i)$ representing the long-distance traveling, $w_G(t)$ is the weight for the short-distance wandering along time.\n",
    "\n",
    "Thus, the total expected infection number at $t$ is\n",
    "\n",
    "$$ N_I(t|H_d) = \\int_{\\mathbf{x}}n_I(\\mathbf{x},t|H_t)d\\mathbf{x}$$"
   ]
  },
  {
   "cell_type": "markdown",
   "metadata": {},
   "source": [
    "5. To simulate the infection events at $t$, we first sample $n_e = \\mathrm{round}(\\lambda_d(t))$ spatial positions according to the spatial PDF as normalized $n_I(\\mathbf{x},t)$. Then we assign $N_i$ to the sampled $n_e$ positions, as $n_e$ infection events:\n",
    "\n",
    "$$ N_i=\\mathop{\\min}[N_I(t)\\frac{n_I(\\mathbf{x}_i,t)}{\\sum_i^{n_e}n_I(\\mathbf{x}_i,t)},N_s(\\mathbf{x}_i,t)]$$\n",
    "\n",
    "where, $N_s(\\mathbf{x}_i,t)=N(\\mathbf{x}_i)(1-I(\\mathbf{x}_i,t))$ is the susceptible population at location $\\mathbf{x}_i$ and time $t$; $N(\\mathbf{x}_i)$ is the static population at position $\\mathbf{x}_i$."
   ]
  },
  {
   "cell_type": "markdown",
   "metadata": {},
   "source": [
    "## Required data and prior information"
   ]
  },
  {
   "cell_type": "markdown",
   "metadata": {},
   "source": [
    "1. The open-source data in singapore include the imported case number at each day, confirmed case number at each day $N_I(t)$ (in community, which is the target we are trying to simulate). However, there is no specific locations for each confirmed case."
   ]
  },
  {
   "cell_type": "code",
   "execution_count": null,
   "metadata": {},
   "outputs": [],
   "source": [
    "%load_ext autoreload\n",
    "%autoreload 2\n",
    "import copy\n",
    "import pandas as pd\n",
    "import numpy as np\n",
    "import matplotlib.pyplot as plt\n",
    "import matplotlib.colors as pcl\n",
    "import matplotlib.cm as cm\n",
    "from ETAS_fun import pdegconv, gd, fxxi, infevnt, ifds_ETAS, dispift\n",
    "from Hd_geninv import rdHdgen, invka\n",
    "from R0_inv import R0inv"
   ]
  },
  {
   "cell_type": "code",
   "execution_count": null,
   "metadata": {},
   "outputs": [],
   "source": [
    "# readin all available data (from 1, Jan to 12, Nov 2020)\n",
    "path = './resources'\n",
    "outpath = './outputs'\n",
    "sgdata = 'Singapore_case_No.xlsx'\n",
    "NI = pd.read_excel(f'{path}/{sgdata}') # all data (https://www.moh.gov.sg/covid-19/situation-report)"
   ]
  },
  {
   "cell_type": "code",
   "execution_count": null,
   "metadata": {},
   "outputs": [],
   "source": [
    "NI"
   ]
  },
  {
   "cell_type": "code",
   "execution_count": null,
   "metadata": {},
   "outputs": [],
   "source": [
    "# select required data\n",
    "NI_c = np.array(NI['Community']) # total community cases\n",
    "NI_ids = np.array(NI['detected through surveillance (imported)']) # total imported cases (not being isolated until 5 days after onset of their symptoms)\n",
    "nt = len(NI_c) # total days"
   ]
  },
  {
   "cell_type": "code",
   "execution_count": null,
   "metadata": {},
   "outputs": [],
   "source": [
    "# smooth the data\n",
    "ns = 7\n",
    "s = np.ones((ns))/ns\n",
    "NIs_ids = pdegconv(NI_ids,s) # smoothed community infected number\n",
    "NIs_c = pdegconv(NI_c,s) # smoothed imported infected number"
   ]
  },
  {
   "cell_type": "code",
   "execution_count": null,
   "metadata": {
    "scrolled": false
   },
   "outputs": [],
   "source": [
    "fig,ax = plt.subplots(1,1,figsize=(8,4))\n",
    "ax.plot(NI_c,'b:',label='community')\n",
    "ax.plot(NIs_c,'b',label='smoothed community')\n",
    "ax.plot(NI_ids,'r:',label='imported')\n",
    "ax.plot(NIs_ids,'r',label='smoothed imported')\n",
    "ax.set_xlabel('Time (day)')\n",
    "ax.set_ylabel('Infected number ($N_I$)')\n",
    "_ = ax.legend()"
   ]
  },
  {
   "cell_type": "code",
   "execution_count": null,
   "metadata": {},
   "outputs": [],
   "source": [
    "fig.savefig(f'{outpath}/NI.png',dpi=300)"
   ]
  },
  {
   "cell_type": "markdown",
   "metadata": {},
   "source": [
    "2. Prior knowledge for $g_d(t)$ and $f(\\mathbf{x},\\mathbf{x}_i,t)$"
   ]
  },
  {
   "cell_type": "markdown",
   "metadata": {},
   "source": [
    "(1) According to current COVID-19 study, we can have an average $g_d(t)$: $\\tau$ and $\\sigma$ are determined according to the average course of COVID-19. These parameters are assumed constant throughout the modeling peroid."
   ]
  },
  {
   "cell_type": "code",
   "execution_count": null,
   "metadata": {},
   "outputs": [],
   "source": [
    "# compose gd as gt here\n",
    "t_onset = 4 # the onset of symptoms\n",
    "t_peak = 7.5 # the peak symptom\n",
    "t_cut = t_onset+5 # average cutoff day is 5 days after the onset of symptoms\n",
    "t = np.arange(t_peak*2)\n",
    "gt = gd(t,t_peak,t_peak/3,cf=t_cut) # sigma is approximated t_peak/3 days"
   ]
  },
  {
   "cell_type": "code",
   "execution_count": null,
   "metadata": {},
   "outputs": [],
   "source": [
    "# plot gt\n",
    "T = np.arange(t_peak*2)\n",
    "gtd = gd(t,t_peak,t_peak/3)\n",
    "gtd = gtd/np.amax(gtd)*np.amax(gt)\n",
    "fig,ax = plt.subplots(1,1,figsize=(8,4))\n",
    "ax.plot(gtd[:t_cut+1],'b')\n",
    "ax.plot(T[t_cut:],gtd[t_cut:],'b--')\n",
    "ax.plot([t_onset,t_onset],[-0.01,0.2],'r')\n",
    "ax.plot([t_cut,t_cut],[-0.01,0.2],'r')\n",
    "ax.set_ylim(0,0.2)\n",
    "ax.set_xticks(np.linspace(0,t_peak*2,6))\n",
    "ax.set_yticks(np.linspace(0,0.2,5))\n",
    "ax.set_xlabel('Time (day)')\n",
    "ax.text(t_onset*0.6,0.15,'''Onset of symptoms''',fontsize=12)\n",
    "ax.text(t_cut*0.9,0.17,'''Quarantined''',fontsize=12)\n",
    "_ = ax.set_ylabel('Infectability ($g_d$)')"
   ]
  },
  {
   "cell_type": "code",
   "execution_count": null,
   "metadata": {},
   "outputs": [],
   "source": [
    "fig.savefig(f'{outpath}/gd.png',dpi=300)"
   ]
  },
  {
   "cell_type": "markdown",
   "metadata": {},
   "source": [
    "(2) $G_n(|\\mathbf{x}-\\mathbf{x}_i|,\\sigma_d(t))$ represents the short-distance wandering in the neighborhood, whereas $P_n(\\mathbf{x},\\mathbf{x_i})$ represents the long-distance travelling to anywhere in the modeling area. $w_G(t)$ controls the ratio between these two kinds of human movement."
   ]
  },
  {
   "cell_type": "markdown",
   "metadata": {},
   "source": [
    "(3) Here, we need two types of information for creating $f(\\mathbf{x},\\mathbf{x}_i,t)$: general demography and quantified containment measures."
   ]
  },
  {
   "cell_type": "code",
   "execution_count": null,
   "metadata": {},
   "outputs": [],
   "source": [
    "dmgfn = 'dmg.dat'\n",
    "efffn = 'effarea.dat'\n",
    "stgnb = 'sg_sidx.xlsx' #https://www.bsg.ox.ac.uk/research/research-projects/coronavirus-government-response-tracker"
   ]
  },
  {
   "cell_type": "code",
   "execution_count": null,
   "metadata": {},
   "outputs": [],
   "source": [
    "# readin demographic data and containment stringency index\n",
    "dmg = np.fromfile(f'{path}/{dmgfn}',dtype=np.float64)\n",
    "effarea = np.fromfile(f'{path}/{efffn}',dtype=bool)\n",
    "stgnb = pd.read_excel(f'{path}/{stgnb}') # stringency index"
   ]
  },
  {
   "cell_type": "code",
   "execution_count": null,
   "metadata": {},
   "outputs": [],
   "source": [
    "# reshape the data\n",
    "shape = (235,400)\n",
    "dmg = np.reshape(dmg,shape)\n",
    "effarea = np.reshape(effarea,shape)"
   ]
  },
  {
   "cell_type": "code",
   "execution_count": null,
   "metadata": {},
   "outputs": [],
   "source": [
    "# smooth the stringency index\n",
    "sidx = np.array(stgnb['Singapore'])\n",
    "sidx[0] = sidx[1] # eliminate the first 0 index\n",
    "ss = pdegconv(sidx,s)"
   ]
  },
  {
   "cell_type": "code",
   "execution_count": null,
   "metadata": {},
   "outputs": [],
   "source": [
    "# plot the stringency index\n",
    "fig,ax = plt.subplots(1,1,figsize=(8,4))\n",
    "ax.plot(sidx/100,label='original')\n",
    "ax.plot(ss/100,label='smoothed')\n",
    "ax.set_xlabel('Time (day)')\n",
    "ax.legend()\n",
    "_ = ax.set_ylabel('s')"
   ]
  },
  {
   "cell_type": "code",
   "execution_count": null,
   "metadata": {},
   "outputs": [],
   "source": [
    "fig.savefig(f'{outpath}/sindx.png',dpi=300)"
   ]
  },
  {
   "cell_type": "markdown",
   "metadata": {},
   "source": [
    "(4) $f(\\mathbf{x},\\mathbf{x_i},t)$: $w_G(t)$, $\\sigma_d(t)$ and $P_n(\\mathbf{x},\\mathbf{x}_i)$ are predetermined according to human transportation. We assume $P_n(\\mathbf{x},\\mathbf{x}_i)$ does not change along time, whereas $w_G(t)$ and $\\sigma_d(t)$ do vary with time, which can reflect the containment measures, e.g., during \"circuit breaker\" in Singapore, $w_G(t)$ increases while $\\sigma_d(t)$ decreases, since huamn movement is restricted into smaller area.\n",
    "\n",
    "i. the highest stringency parts (>0.7) corresponds to \"circuit breaker\" and its reopening phase 1 and 2;\n",
    "\n",
    "ii. followed by phase 2, the stringency index keeps around 0.5 for the phase 3."
   ]
  },
  {
   "cell_type": "code",
   "execution_count": null,
   "metadata": {},
   "outputs": [],
   "source": [
    "ssN = ss/100 # normalize ss into [0,1] range\n",
    "# wG: linear mapping from [0.2,0.9] to [0,0.9^2] in sidx^2\n",
    "wG = (ssN/0.9)**2*(0.9-0.2)+0.2\n",
    "# (sigma_d)sd: linear mapping from [10,1] to [0,0.9^4] in sidx^4\n",
    "sd = (ssN/0.9)**4*(1-10)+10"
   ]
  },
  {
   "cell_type": "code",
   "execution_count": null,
   "metadata": {},
   "outputs": [],
   "source": [
    "fig,ax = plt.subplots(2,1,figsize=(12,10))\n",
    "ax[0].plot(wG)\n",
    "ax[1].plot(sd)\n",
    "for i in range(2):\n",
    "    ax[i].set_xlabel('Time (day)')\n",
    "ax[0].set_ylabel('$w_G$')\n",
    "_ = ax[1].set_ylabel('$\\sigma_d$')"
   ]
  },
  {
   "cell_type": "markdown",
   "metadata": {},
   "source": [
    "(5) $P_n$ is the background PDF for human transportation. Here we simply use the logscaled demography. \n",
    "This indicates that people tends to travel to densely populated area since those regions are where most \n",
    "working spaces, schools, shopping malls and food courts are."
   ]
  },
  {
   "cell_type": "code",
   "execution_count": null,
   "metadata": {},
   "outputs": [],
   "source": [
    "# log dmg to obtain background pdf\n",
    "dmg1 = dmg\n",
    "dmg1[dmg1<1] = 1 # avoid log(0)\n",
    "bkd = np.log(dmg1)\n",
    "bkd = bkd/np.sum(bkd) # logscaled dmg as background pdf"
   ]
  },
  {
   "cell_type": "code",
   "execution_count": null,
   "metadata": {},
   "outputs": [],
   "source": [
    "# plot Pn\n",
    "Vmin = 0\n",
    "Vmax = 0.000035\n",
    "cN = pcl.Normalize(vmin=Vmin, vmax=Vmax)\n",
    "fig,ax = plt.subplots(1,1,figsize=(9.5,4))\n",
    "ax.imshow(bkd,cmap='viridis')\n",
    "x1 = 300\n",
    "x2 = 380\n",
    "x3 = 315\n",
    "y1 = 220\n",
    "y2 = 215\n",
    "y3 = 210\n",
    "ax.set_xticks([])\n",
    "ax.set_yticks([])\n",
    "ax.plot([x1,x2],[y1,y1],'r',linewidth=3)\n",
    "ax.plot([x1,x1],[y1,y2],'r',linewidth=3)\n",
    "ax.plot([x2,x2],[y1,y2],'r',linewidth=3)\n",
    "cb = fig.colorbar(cm.ScalarMappable(norm=cN, cmap='viridis'))\n",
    "ctick = np.linspace(Vmin,Vmax,6)\n",
    "cb.set_ticks(ctick)\n",
    "cb.set_ticklabels([f'{i*1e5:.1f}' for i in ctick])\n",
    "ax.text(420,-10,'x1e-5')\n",
    "_ = ax.text(x3,y3,'10 km',color='r',fontsize=15)"
   ]
  },
  {
   "cell_type": "code",
   "execution_count": null,
   "metadata": {},
   "outputs": [],
   "source": [
    "BB = ax.get_position()\n",
    "BB.x0 = 1.8\n",
    "BB.y0 = 0.35\n",
    "BB.x1 = 8\n",
    "BB.y1 = 3.8"
   ]
  },
  {
   "cell_type": "code",
   "execution_count": null,
   "metadata": {},
   "outputs": [],
   "source": [
    "fig.savefig(f'{outpath}/Px.png',dpi=300,bbox_inches=BB)"
   ]
  },
  {
   "cell_type": "markdown",
   "metadata": {},
   "source": [
    "## Parameter fitting using synthetic infection event history"
   ]
  },
  {
   "cell_type": "markdown",
   "metadata": {},
   "source": [
    "If we could get $H_d$, we are able to fit a $h_d(N)$. Then $R_0(t)$ is fitted according to $N_I(t)$.\n",
    "\n",
    "i. $h_d(N)$: $N_0$ is the infection number threshold that being considered as an infection event. In singapore, since the total case is small, we set $N_0=1$ throughout the modeling. $k_d$ and $\\alpha_d$ are fitted according to infection event history $H_d$. When modeling in a relatively homogeneous area, e.g., a relatively small country like singapore, we assume $k_d$ and $\\alpha_d$ are constant in space. As for temporal variation, we assume they are also constant.\n",
    "\n",
    "ii. $R_0$: After above parameters are determined, we can fit for $R_0$ based on the confirmed case No. $N_I(t)$. "
   ]
  },
  {
   "cell_type": "markdown",
   "metadata": {},
   "source": [
    "### Create $H_d$ randomly according to real $N_I(t)$"
   ]
  },
  {
   "cell_type": "markdown",
   "metadata": {},
   "source": [
    "1. In view of Singapore's situation, we assume each infection event involve $n_e$ people, where $n_e\\in U(1,10)$.\n",
    "\n",
    "2. Based on the real $N_I(t)$, we can randomly generate $n_e$ (and sample corresponding positions) until they sum to $N_I(t)$. Then, we can obtain $\\lambda_d(t)$."
   ]
  },
  {
   "cell_type": "code",
   "execution_count": null,
   "metadata": {},
   "outputs": [],
   "source": [
    "Hd_c = rdHdgen(NI_c,dmg) # community infection events\n",
    "Hd_i = rdHdgen(NI_ids,dmg,Hd_c) # imported infection events\n",
    "Hd = copy.deepcopy(Hd_c)\n",
    "Hd.evnt_add(Hd_i.indx,Hd_i.indt,Hd_i.Ni) # total infection events"
   ]
  },
  {
   "cell_type": "code",
   "execution_count": null,
   "metadata": {},
   "outputs": [],
   "source": [
    "# calculate infection event number varying with time and infected number for each event\n",
    "Ldc,HdNic = Hd_c.LdHdNi_cal(nt)\n",
    "Ldi,HdNii = Hd_i.LdHdNi_cal(nt)\n",
    "Ld,HdNi = Hd.LdHdNi_cal(nt)"
   ]
  },
  {
   "cell_type": "code",
   "execution_count": null,
   "metadata": {
    "scrolled": true
   },
   "outputs": [],
   "source": [
    "# plot statistical information of Hd\n",
    "fig,ax = plt.subplots(1,2,figsize=(17,5))\n",
    "ax[0].plot(Ldc,label='community')\n",
    "ax[0].plot(Ldi,label='imported')\n",
    "#ax[0].plot(Ld,label='total')\n",
    "ax[0].set_xlabel('Time (day)')\n",
    "ax[0].set_ylabel('$\\lambda_d$')\n",
    "ax[1].hist([HdNic,HdNii],bins=np.arange(11)+1,rwidth=0.5,label=['community','imported'])\n",
    "ax[1].set_xlabel('Infected number ($N_i$)')\n",
    "ax[1].set_ylabel('Infection event number')\n",
    "xtick = np.arange(10)+1.5\n",
    "ax[1].set_xticks(xtick)\n",
    "ax[1].set_xticklabels([f'{int(i-0.5)}' for i in xtick])\n",
    "for i in range(2):\n",
    "    ax[i].legend()"
   ]
  },
  {
   "cell_type": "code",
   "execution_count": null,
   "metadata": {},
   "outputs": [],
   "source": [
    "fig.savefig(f'{outpath}/Hdstat.png',dpi=300)"
   ]
  },
  {
   "cell_type": "code",
   "execution_count": null,
   "metadata": {},
   "outputs": [],
   "source": [
    "# calculate the infected number NI(t) varying with time\n",
    "tr = [i for i in range(nt)]\n",
    "NIc = Hd_c.NIcal(tr) # NIc should equal to NI_c\n",
    "fig,ax = plt.subplots(1,1,figsize=(8,4))\n",
    "ax.plot(NIc,label='Generated')\n",
    "ax.plot(NI_c,label='Recorded')\n",
    "ax.set_xlabel('Time (day)')\n",
    "ax.set_ylabel('Infected number')\n",
    "ax.legend()\n",
    "# calculate the final immunity\n",
    "I = Hd.Ical(dmg,nt)\n",
    "print(f'maximum immunity ratio must smaller than 1: {np.amax(I)}')"
   ]
  },
  {
   "cell_type": "code",
   "execution_count": null,
   "metadata": {},
   "outputs": [],
   "source": [
    "# display all synthectic infection events\n",
    "fx = fxxi(shape, effarea, bkd)\n",
    "disp = dispift(fx,outpath=outpath)"
   ]
  },
  {
   "cell_type": "code",
   "execution_count": null,
   "metadata": {},
   "outputs": [],
   "source": [
    "disp.dispevnt_history(nt,Hd_c,Hd_i)"
   ]
  },
  {
   "cell_type": "markdown",
   "metadata": {},
   "source": [
    "### Fit for $k_d$ and $\\alpha_d$: $\\mathop{\\min}_{k_d,\\alpha_d} \\lVert \\mathbf{GH}(k_d,\\alpha_d)-\\mathbf{\\lambda} \\rVert_2^2$"
   ]
  },
  {
   "cell_type": "code",
   "execution_count": null,
   "metadata": {},
   "outputs": [],
   "source": [
    "ive = invka(gt,Ld,HdNi,Ldc,N0=1)\n",
    "r'''Notice the input infection event history is the total infection events, including community and imported, \n",
    "however, the fitted infection event number only contain the community cases, since the imported cases are not \n",
    "influenced by the community cases.'''"
   ]
  },
  {
   "cell_type": "code",
   "execution_count": null,
   "metadata": {},
   "outputs": [],
   "source": [
    "k0 = 1\n",
    "a0 = 1\n",
    "Ld0 = ive.testka(k0,a0)"
   ]
  },
  {
   "cell_type": "code",
   "execution_count": null,
   "metadata": {},
   "outputs": [],
   "source": [
    "k,a = ive.iterupdate(k0,a0,Nk=0.01,Na=0.01,tol=1e-5)"
   ]
  },
  {
   "cell_type": "code",
   "execution_count": null,
   "metadata": {},
   "outputs": [],
   "source": [
    "print(f'k={k}')\n",
    "print(f'a={a}')"
   ]
  },
  {
   "cell_type": "code",
   "execution_count": null,
   "metadata": {},
   "outputs": [],
   "source": [
    "Lde = ive.testka(k,a)"
   ]
  },
  {
   "cell_type": "code",
   "execution_count": null,
   "metadata": {},
   "outputs": [],
   "source": [
    "label1 = 'predicted infection event number (initial)'\n",
    "label2 = 'predicted infection event number (inverted)'"
   ]
  },
  {
   "cell_type": "code",
   "execution_count": null,
   "metadata": {
    "scrolled": true
   },
   "outputs": [],
   "source": [
    "fig,ax = plt.subplots(1,1,figsize=(8,4))\n",
    "ax.plot(ive.Ldy,label='infection event number')\n",
    "ax.plot(Ld0,'r--',label=label1)\n",
    "ax.plot(Lde,'r',label=label2)\n",
    "ax.set_xlabel('Time (day)')\n",
    "ax.set_ylabel('$\\lambda_d$')\n",
    "ax.text(200,20,f'initial: $(k_d={k0},\\\\alpha_d={a0})$')\n",
    "ax.text(200,15,f'inverted: $(k_d={k:.2f},\\\\alpha_d={a:.2f})$')\n",
    "ax.legend()"
   ]
  },
  {
   "cell_type": "code",
   "execution_count": null,
   "metadata": {},
   "outputs": [],
   "source": [
    "fig.savefig(f'{outpath}/kafit.png',dpi=300)"
   ]
  },
  {
   "cell_type": "markdown",
   "metadata": {},
   "source": [
    "### Fit for $R_0(t)$:"
   ]
  },
  {
   "cell_type": "markdown",
   "metadata": {},
   "source": [
    "1. We know that $R_0(t)$ should be affected by the containment measures. Higher the stringency index is, lower the $R_0(t)$ is. Similar to $\\lambda_d(t)$, we assume the relationship between $R_0(t)$ and stringency index $s(t)$ is\n",
    "\n",
    "$$R_0(t) = ls(t)^{\\beta},$$\n",
    "\n",
    "where, $l>0$ and $\\beta<0$."
   ]
  },
  {
   "cell_type": "markdown",
   "metadata": {},
   "source": [
    "2. Now we can use the infection event history to invert for $l$ and $\\beta$ so that a relationship between $R_0(t)$ and $s(t)$ can be estabilished.\n",
    "\n",
    "$$\\mathop{\\min}_{(l,\\beta)}\\lVert\\mathbf{FR}_0(k,\\beta)-\\mathbf{N}_I\\rVert_2^2,$$\n",
    "\n",
    "in which\n",
    "\n",
    "$$\\mathbf{FR}_0(k,\\beta)=R_0(t|k,\\beta)\\int(1-I(\\mathbf{x},t))\\sum_{i:t_i<t}N_ig_n(t-t_i)f(\\mathbf{x},\\mathbf{x}_i,t)d\\mathbf{x}$$"
   ]
  },
  {
   "cell_type": "code",
   "execution_count": null,
   "metadata": {},
   "outputs": [],
   "source": [
    "from R0lb_inv import lbinv\n",
    "NI_y = Hd_c.NIcal(tr) # the NI being fitted is the community case No.\n",
    "lbINV = lbinv(dmg,Hd,ssN,gt,fx,sd,wG,NI_y)\n",
    "l0 = 1\n",
    "b0 = -1 # initial solutions\n",
    "NI0 = lbINV.testlb(l0,b0) # initial modeling result"
   ]
  },
  {
   "cell_type": "code",
   "execution_count": null,
   "metadata": {},
   "outputs": [],
   "source": [
    "l,b = lbINV.iterupdate(l0,b0)\n",
    "print(f'l={l}')\n",
    "print(f'b={b}')\n",
    "NIe = lbINV.testlb(l,b) # inverted modeling result"
   ]
  },
  {
   "cell_type": "code",
   "execution_count": null,
   "metadata": {},
   "outputs": [],
   "source": [
    "label1 = 'predicted infected number (initial)'\n",
    "label2 = 'predicted infected number (inverted)'"
   ]
  },
  {
   "cell_type": "code",
   "execution_count": null,
   "metadata": {},
   "outputs": [],
   "source": [
    "fig,ax = plt.subplots(1,1,figsize=(8,4))\n",
    "ax.plot(lbINV.NI,label='infected number')\n",
    "ax.plot(NI0,'r--',label=label1)\n",
    "ax.plot(NIe,'r',label=label2)\n",
    "ax.set_xlabel('Time (day)')\n",
    "ax.set_ylabel('$N_I$')\n",
    "ax.text(200,40,f'initial: $(l={l0},\\\\beta={b0})$')\n",
    "ax.text(200,33,f'inverted: $(l={l:.2f},\\\\beta={b:.2f})$')\n",
    "_ = ax.legend()"
   ]
  },
  {
   "cell_type": "code",
   "execution_count": null,
   "metadata": {},
   "outputs": [],
   "source": [
    "fig.savefig(f'{outpath}/lbfit.png',dpi=300)"
   ]
  },
  {
   "cell_type": "code",
   "execution_count": null,
   "metadata": {},
   "outputs": [],
   "source": [
    "R0 = lbINV.R0cal(l,b)\n",
    "fig,ax = plt.subplots(1,1,figsize=(8,4))\n",
    "ax.plot(R0)\n",
    "ax.set_xlabel('Time (day)')\n",
    "ax.set_ylabel('$R_0$')\n",
    "_ = ax.text(150,1.6,f'$R_0={l}\\\\times s(t)^{b}$',fontsize=15)"
   ]
  },
  {
   "cell_type": "code",
   "execution_count": null,
   "metadata": {},
   "outputs": [],
   "source": [
    "fig.savefig(f'{outpath}/R0.png',dpi=300)"
   ]
  },
  {
   "cell_type": "markdown",
   "metadata": {},
   "source": [
    "## Modeling from 1 Jan, 2020 to 12 Nov, 2020 using fitted parameters and the imported case number"
   ]
  },
  {
   "cell_type": "code",
   "execution_count": null,
   "metadata": {},
   "outputs": [],
   "source": [
    "mod = ifds_ETAS(dmg,gt,1,k,a,fx)"
   ]
  },
  {
   "cell_type": "code",
   "execution_count": null,
   "metadata": {},
   "outputs": [],
   "source": [
    "nIt = mod.formod(R0,sd,wG,Hdi=Hd_i)"
   ]
  },
  {
   "cell_type": "code",
   "execution_count": null,
   "metadata": {},
   "outputs": [],
   "source": [
    "NIm = mod.Hd.NIcal(tr)\n",
    "NIi = Hd_i.NIcal(tr)"
   ]
  },
  {
   "cell_type": "code",
   "execution_count": null,
   "metadata": {
    "scrolled": true
   },
   "outputs": [],
   "source": [
    "fig,ax = plt.subplots(1,1,figsize=(8,4))\n",
    "ax.plot(NI_c,'r',label='real community cases')\n",
    "ax.plot(NIm-NIi,'b',label='modeled community cases')\n",
    "ax.set_xlabel('Time (day)')\n",
    "ax.set_ylabel('$N_I$')\n",
    "ax.legend()"
   ]
  },
  {
   "cell_type": "code",
   "execution_count": null,
   "metadata": {},
   "outputs": [],
   "source": [
    "fig.savefig(f'{outpath}/NImod.png',dpi=300)"
   ]
  },
  {
   "cell_type": "code",
   "execution_count": null,
   "metadata": {},
   "outputs": [],
   "source": [
    "# delete imported cases from mod.Hd\n",
    "Hdm = copy.deepcopy(mod.Hd)\n",
    "Hdm.evnt_del(Hd_i)\n",
    "NIm2 = Hdm.NIcal(tr)\n",
    "print(f'Difference between NIm and NIm2: {np.sum(NIm2-(NIm-NIi))}')"
   ]
  },
  {
   "cell_type": "code",
   "execution_count": null,
   "metadata": {},
   "outputs": [],
   "source": [
    "disp = dispift(fx,dpi=40,outpath=outpath)\n",
    "# plot nI and Hd evolving with time\n",
    "disp.dispevnt_history(nt,Hdm,Hd_i)"
   ]
  },
  {
   "cell_type": "code",
   "execution_count": null,
   "metadata": {},
   "outputs": [],
   "source": [
    "for i in range(nt):\n",
    "    nI = nIt[i]\n",
    "    indx,Ni = mod.Hd.evnt_t(i)\n",
    "    disp.dispnI(i,nI,indx,Ni)"
   ]
  },
  {
   "cell_type": "markdown",
   "metadata": {},
   "source": [
    "## What if there is no \"circuit breaker\""
   ]
  },
  {
   "cell_type": "code",
   "execution_count": null,
   "metadata": {},
   "outputs": [],
   "source": [
    "sdn = np.array(sd)\n",
    "sdn[75:] = sd[75]\n",
    "wGn = np.array(wG)\n",
    "wGn[75:] = wG[75]\n",
    "R0n = np.array(R0)\n",
    "R0n[75:] = R0[75]"
   ]
  },
  {
   "cell_type": "code",
   "execution_count": null,
   "metadata": {},
   "outputs": [],
   "source": [
    "mod = ifds_ETAS(dmg,gt,1,k,a,fx)"
   ]
  },
  {
   "cell_type": "code",
   "execution_count": null,
   "metadata": {
    "scrolled": true
   },
   "outputs": [],
   "source": [
    "nIt = mod.formod(R0n,sdn,wGn,Hdi=Hd_i)"
   ]
  },
  {
   "cell_type": "code",
   "execution_count": null,
   "metadata": {},
   "outputs": [],
   "source": [
    "NIm = mod.Hd.NIcal(tr)\n",
    "NIi = Hd_i.NIcal(tr)"
   ]
  },
  {
   "cell_type": "code",
   "execution_count": null,
   "metadata": {},
   "outputs": [],
   "source": [
    "# delete imported cases from mod.Hd\n",
    "Hdm = copy.deepcopy(mod.Hd)\n",
    "Hdm.evnt_del(Hd_i)\n",
    "NIm2 = Hdm.NIcal(tr)\n",
    "print(f'Difference between NIm and NIm2: {np.sum(NIm2-(NIm-NIi))}')"
   ]
  },
  {
   "cell_type": "code",
   "execution_count": null,
   "metadata": {},
   "outputs": [],
   "source": [
    "fig,ax = plt.subplots(1,1,figsize=(8,4))\n",
    "ax.plot(NI_c,'r',label='real community cases')\n",
    "ax.plot(NIm-NIi,'b',label='modeled community cases')\n",
    "ax.set_xlabel('Time (day)')\n",
    "ax.set_ylabel('$N_I$')\n",
    "ax.legend()"
   ]
  },
  {
   "cell_type": "code",
   "execution_count": null,
   "metadata": {},
   "outputs": [],
   "source": [
    "fig.savefig(f'{outpath}/NImod_new.png',dpi=300)"
   ]
  },
  {
   "cell_type": "code",
   "execution_count": null,
   "metadata": {},
   "outputs": [],
   "source": [
    "disp = dispift(fx,dpi=40,outpath=outpath)\n",
    "# plot nI and Hd evolving with time\n",
    "disp.dispevnt_history(nt,Hdm,Hd_i)"
   ]
  },
  {
   "cell_type": "code",
   "execution_count": null,
   "metadata": {},
   "outputs": [],
   "source": [
    "disp = dispift(fx,dpi=38,outpath=outpath)\n",
    "for i in range(nt):\n",
    "    nI = nIt[i]\n",
    "    indx,Ni = mod.Hd.evnt_t(i)\n",
    "    disp.dispnI(i,nI,indx,Ni)"
   ]
  }
 ],
 "metadata": {
  "kernelspec": {
   "display_name": "Python 3",
   "language": "python",
   "name": "python3"
  },
  "language_info": {
   "codemirror_mode": {
    "name": "ipython",
    "version": 3
   },
   "file_extension": ".py",
   "mimetype": "text/x-python",
   "name": "python",
   "nbconvert_exporter": "python",
   "pygments_lexer": "ipython3",
   "version": "3.7.4"
  },
  "toc": {
   "base_numbering": 1,
   "nav_menu": {},
   "number_sections": true,
   "sideBar": true,
   "skip_h1_title": false,
   "title_cell": "Table of Contents",
   "title_sidebar": "Contents",
   "toc_cell": false,
   "toc_position": {},
   "toc_section_display": true,
   "toc_window_display": true
  },
  "varInspector": {
   "cols": {
    "lenName": 16,
    "lenType": 16,
    "lenVar": 40
   },
   "kernels_config": {
    "python": {
     "delete_cmd_postfix": "",
     "delete_cmd_prefix": "del ",
     "library": "var_list.py",
     "varRefreshCmd": "print(var_dic_list())"
    },
    "r": {
     "delete_cmd_postfix": ") ",
     "delete_cmd_prefix": "rm(",
     "library": "var_list.r",
     "varRefreshCmd": "cat(var_dic_list()) "
    }
   },
   "types_to_exclude": [
    "module",
    "function",
    "builtin_function_or_method",
    "instance",
    "_Feature"
   ],
   "window_display": false
  }
 },
 "nbformat": 4,
 "nbformat_minor": 2
}
